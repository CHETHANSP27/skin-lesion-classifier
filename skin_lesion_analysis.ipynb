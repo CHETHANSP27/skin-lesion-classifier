{
 "cells": [
  {
   "cell_type": "code",
   "execution_count": 1,
   "id": "b101c3ec",
   "metadata": {},
   "outputs": [],
   "source": [
    "import os\n",
    "import pandas as pd\n",
    "import numpy as np\n",
    "from PIL import Image\n",
    "import torch\n",
    "import torchvision.transforms as transforms\n",
    "from torch.utils.data import Dataset, DataLoader\n",
    "from sklearn.preprocessing import LabelEncoder\n",
    "from sklearn.model_selection import train_test_split\n",
    "import matplotlib.pyplot as plt"
   ]
  },
  {
   "cell_type": "code",
   "execution_count": 3,
   "id": "376da5ff",
   "metadata": {},
   "outputs": [
    {
     "name": "stdout",
     "output_type": "stream",
     "text": [
      "✅ Preprocessed: 1600 train, 400 val samples\n"
     ]
    }
   ],
   "source": [
    "# Load metadata\n",
    "df = pd.read_csv(\"sample_metadata.csv\")\n",
    "\n",
    "# Rename columns for clarity (optional)\n",
    "df.rename(columns={\n",
    "    'dx': 'diagnosis',\n",
    "    'localization': 'anatom_site_general_challenge'\n",
    "}, inplace=True)\n",
    "\n",
    "# Fill missing values\n",
    "df['age'] = df['age'].fillna(df['age'].mean())\n",
    "df['sex'] = df['sex'].fillna('unknown')\n",
    "df['anatom_site_general_challenge'] = df['anatom_site_general_challenge'].fillna('unknown')\n",
    "\n",
    "# Encode categorical columns\n",
    "from sklearn.preprocessing import LabelEncoder\n",
    "encoders = {}\n",
    "for col in ['sex', 'anatom_site_general_challenge', 'diagnosis']:\n",
    "    enc = LabelEncoder()\n",
    "    df[col] = enc.fit_transform(df[col])\n",
    "    encoders[col] = enc\n",
    "\n",
    "# Split into train/val\n",
    "from sklearn.model_selection import train_test_split\n",
    "train_df, val_df = train_test_split(df, test_size=0.2, stratify=df['diagnosis'], random_state=42)\n",
    "\n",
    "print(f\"✅ Preprocessed: {len(train_df)} train, {len(val_df)} val samples\")\n"
   ]
  },
  {
   "cell_type": "code",
   "execution_count": 4,
   "id": "8ded2b71",
   "metadata": {},
   "outputs": [],
   "source": [
    "import torch.nn as nn\n",
    "import torchvision.models as models\n",
    "\n",
    "class HybridNet(nn.Module):\n",
    "    def __init__(self, num_tabular_features=3, num_classes=7):\n",
    "        super(HybridNet, self).__init__()\n",
    "        \n",
    "        # Image branch (ResNet18 backbone)\n",
    "        self.cnn = models.resnet18(pretrained=True)\n",
    "        self.cnn.fc = nn.Identity()  # Remove final layer (we'll fuse manually)\n",
    "        image_feat_dim = 512  # ResNet18 final feature size\n",
    "        \n",
    "        # Tabular branch\n",
    "        self.tabular_net = nn.Sequential(\n",
    "            nn.Linear(num_tabular_features, 32),\n",
    "            nn.ReLU(),\n",
    "            nn.BatchNorm1d(32),\n",
    "            nn.Dropout(0.2)\n",
    "        )\n",
    "\n",
    "        # Fusion + Final Classification\n",
    "        self.classifier = nn.Sequential(\n",
    "            nn.Linear(image_feat_dim + 32, 128),\n",
    "            nn.ReLU(),\n",
    "            nn.BatchNorm1d(128),\n",
    "            nn.Dropout(0.3),\n",
    "            nn.Linear(128, num_classes)\n",
    "        )\n",
    "    \n",
    "    def forward(self, image, tabular):\n",
    "        image_features = self.cnn(image)            # (batch_size, 512)\n",
    "        tabular_features = self.tabular_net(tabular)  # (batch_size, 32)\n",
    "        combined = torch.cat([image_features, tabular_features], dim=1)  # (batch_size, 544)\n",
    "        out = self.classifier(combined)\n",
    "        return out\n"
   ]
  },
  {
   "cell_type": "code",
   "execution_count": 5,
   "id": "fafeae0a",
   "metadata": {},
   "outputs": [
    {
     "name": "stderr",
     "output_type": "stream",
     "text": [
      "c:\\Users\\cheth\\AppData\\Local\\Programs\\Python\\Python311\\Lib\\site-packages\\torchvision\\models\\_utils.py:208: UserWarning: The parameter 'pretrained' is deprecated since 0.13 and may be removed in the future, please use 'weights' instead.\n",
      "  warnings.warn(\n",
      "c:\\Users\\cheth\\AppData\\Local\\Programs\\Python\\Python311\\Lib\\site-packages\\torchvision\\models\\_utils.py:223: UserWarning: Arguments other than a weight enum or `None` for 'weights' are deprecated since 0.13 and may be removed in the future. The current behavior is equivalent to passing `weights=ResNet18_Weights.IMAGENET1K_V1`. You can also use `weights=ResNet18_Weights.DEFAULT` to get the most up-to-date weights.\n",
      "  warnings.warn(msg)\n"
     ]
    },
    {
     "name": "stdout",
     "output_type": "stream",
     "text": [
      "Downloading: \"https://download.pytorch.org/models/resnet18-f37072fd.pth\" to C:\\Users\\cheth/.cache\\torch\\hub\\checkpoints\\resnet18-f37072fd.pth\n"
     ]
    },
    {
     "name": "stderr",
     "output_type": "stream",
     "text": [
      "100%|██████████| 44.7M/44.7M [00:04<00:00, 10.7MB/s]\n"
     ]
    }
   ],
   "source": [
    "device = torch.device(\"cuda\" if torch.cuda.is_available() else \"cpu\")\n",
    "model = HybridNet(num_tabular_features=3, num_classes=len(encoders['diagnosis'].classes_)).to(device)\n"
   ]
  },
  {
   "cell_type": "code",
   "execution_count": 6,
   "id": "022932a3",
   "metadata": {},
   "outputs": [],
   "source": [
    "import torch.optim as optim\n",
    "\n",
    "criterion = nn.CrossEntropyLoss()\n",
    "optimizer = optim.Adam(model.parameters(), lr=1e-4)\n",
    "\n",
    "def accuracy(preds, labels):\n",
    "    _, predicted = torch.max(preds, 1)\n",
    "    return (predicted == labels).sum().item() / len(labels)\n"
   ]
  },
  {
   "cell_type": "code",
   "execution_count": null,
   "id": "ccd2fe8e",
   "metadata": {},
   "outputs": [],
   "source": [
    "def train_model(model, train_loader, val_loader, criterion, optimizer, epochs=10):\n",
    "    history = {'train_loss': [], 'train_acc': [], 'val_loss': [], 'val_acc': []}\n",
    "    \n",
    "    for epoch in range(epochs):\n",
    "        train_loss, train_acc = 0, 0\n",
    "        model.train()\n",
    "        for images, tabular, labels in train_loader:\n",
    "            images, tabular, labels = images.to(device), tabular.to(device), labels.to(device)\n",
    "\n",
    "            outputs = model(images, tabular)\n",
    "            loss = criterion(outputs, labels)\n",
    "            acc = accuracy(outputs, labels)\n",
    "\n",
    "            optimizer.zero_grad()\n",
    "            loss.backward()\n",
    "            optimizer.step()\n",
    "\n",
    "            train_loss += loss.item()\n",
    "            train_acc += acc\n",
    "\n",
    "        val_loss, val_acc = 0, 0\n",
    "        model.eval()\n",
    "        with torch.no_grad():\n",
    "            for images, tabular, labels in val_loader:\n",
    "                images, tabular, labels = images.to(device), tabular.to(device), labels.to(device)\n",
    "                outputs = model(images, tabular)\n",
    "                loss = criterion(outputs, labels)\n",
    "                acc = accuracy(outputs, labels)\n",
    "\n",
    "                val_loss += loss.item()\n",
    "                val_acc += acc\n",
    "\n",
    "        # Logging\n",
    "        history['train_loss'].append(train_loss / len(train_loader))\n",
    "        history['train_acc'].append(train_acc / len(train_loader))\n",
    "        history['val_loss'].append(val_loss / len(val_loader))\n",
    "        history['val_acc'].append(val_acc / len(val_loader))\n",
    "\n",
    "        print(f\"📘 Epoch {epoch+1}/{epochs} | Train Acc: {train_acc/len(train_loader):.4f} | Val Acc: {val_acc/len(val_loader):.4f}\")\n",
    "    \n",
    "    return history\n"
   ]
  },
  {
   "cell_type": "code",
   "execution_count": 10,
   "id": "1ba3c82e",
   "metadata": {},
   "outputs": [],
   "source": [
    "from torch.utils.data import Dataset\n",
    "from PIL import Image\n",
    "\n",
    "class SkinLesionDataset(Dataset):\n",
    "    def __init__(self, df, image_dir, transform=None):\n",
    "        self.df = df.reset_index(drop=True)\n",
    "        self.image_dir = image_dir\n",
    "        self.transform = transform or transforms.Compose([\n",
    "            transforms.Resize((224, 224)),\n",
    "            transforms.ToTensor()\n",
    "        ])\n",
    "    \n",
    "    def __len__(self):\n",
    "        return len(self.df)\n",
    "    \n",
    "    def __getitem__(self, idx):\n",
    "        row = self.df.iloc[idx]\n",
    "        image_path = os.path.join(self.image_dir, row['image_id'] + \".jpg\")\n",
    "        image = Image.open(image_path).convert('RGB')\n",
    "        image = self.transform(image)\n",
    "\n",
    "        tabular = torch.tensor([\n",
    "            row['age'],\n",
    "            row['sex'],\n",
    "            row['anatom_site_general_challenge']\n",
    "        ], dtype=torch.float32)\n",
    "\n",
    "        label = torch.tensor(row['diagnosis'], dtype=torch.long)\n",
    "        return image, tabular, label\n"
   ]
  },
  {
   "cell_type": "code",
   "execution_count": 11,
   "id": "133dbe5c",
   "metadata": {},
   "outputs": [],
   "source": [
    "# Create PyTorch Dataset from earlier class\n",
    "train_dataset = SkinLesionDataset(train_df, \"images\")\n",
    "val_dataset = SkinLesionDataset(val_df, \"images\")\n",
    "\n",
    "# Create DataLoaders\n",
    "from torch.utils.data import DataLoader\n",
    "\n",
    "train_loader = DataLoader(train_dataset, batch_size=32, shuffle=True)\n",
    "val_loader = DataLoader(val_dataset, batch_size=32)\n"
   ]
  },
  {
   "cell_type": "code",
   "execution_count": 12,
   "id": "adeada1f",
   "metadata": {},
   "outputs": [
    {
     "name": "stdout",
     "output_type": "stream",
     "text": [
      "📘 Epoch 1/5 | Train Loss: 1.6050 | Train Acc: 0.5075 | Val Acc: 0.7308\n",
      "📘 Epoch 2/5 | Train Loss: 1.0218 | Train Acc: 0.7644 | Val Acc: 0.7788\n",
      "📘 Epoch 3/5 | Train Loss: 0.6285 | Train Acc: 0.8888 | Val Acc: 0.7788\n",
      "📘 Epoch 4/5 | Train Loss: 0.4385 | Train Acc: 0.9369 | Val Acc: 0.7404\n",
      "📘 Epoch 5/5 | Train Loss: 0.2997 | Train Acc: 0.9688 | Val Acc: 0.7788\n"
     ]
    }
   ],
   "source": [
    "train_model(model, train_loader, val_loader, criterion, optimizer, epochs=5)\n"
   ]
  },
  {
   "cell_type": "code",
   "execution_count": 13,
   "id": "28b5461f",
   "metadata": {},
   "outputs": [
    {
     "name": "stdout",
     "output_type": "stream",
     "text": [
      "📘 Epoch 1/5 | Train Loss: 0.1919 | Train Acc: 0.9869 | Val Acc: 0.7788\n",
      "📘 Epoch 2/5 | Train Loss: 0.1279 | Train Acc: 0.9938 | Val Acc: 0.7716\n",
      "📘 Epoch 3/5 | Train Loss: 0.1011 | Train Acc: 0.9975 | Val Acc: 0.7764\n",
      "📘 Epoch 4/5 | Train Loss: 0.0805 | Train Acc: 0.9988 | Val Acc: 0.7981\n",
      "📘 Epoch 5/5 | Train Loss: 0.0701 | Train Acc: 0.9988 | Val Acc: 0.7837\n"
     ]
    },
    {
     "ename": "TypeError",
     "evalue": "'NoneType' object is not subscriptable",
     "output_type": "error",
     "traceback": [
      "\u001b[31m---------------------------------------------------------------------------\u001b[39m",
      "\u001b[31mTypeError\u001b[39m                                 Traceback (most recent call last)",
      "\u001b[36mCell\u001b[39m\u001b[36m \u001b[39m\u001b[32mIn[13]\u001b[39m\u001b[32m, line 10\u001b[39m\n\u001b[32m      7\u001b[39m plt.figure(figsize=(\u001b[32m12\u001b[39m, \u001b[32m5\u001b[39m))\n\u001b[32m      9\u001b[39m plt.subplot(\u001b[32m1\u001b[39m, \u001b[32m2\u001b[39m, \u001b[32m1\u001b[39m)\n\u001b[32m---> \u001b[39m\u001b[32m10\u001b[39m plt.plot(\u001b[43mhistory\u001b[49m\u001b[43m[\u001b[49m\u001b[33;43m'\u001b[39;49m\u001b[33;43mtrain_acc\u001b[39;49m\u001b[33;43m'\u001b[39;49m\u001b[43m]\u001b[49m, label=\u001b[33m'\u001b[39m\u001b[33mTrain Acc\u001b[39m\u001b[33m'\u001b[39m)\n\u001b[32m     11\u001b[39m plt.plot(history[\u001b[33m'\u001b[39m\u001b[33mval_acc\u001b[39m\u001b[33m'\u001b[39m], label=\u001b[33m'\u001b[39m\u001b[33mVal Acc\u001b[39m\u001b[33m'\u001b[39m)\n\u001b[32m     12\u001b[39m plt.title(\u001b[33m'\u001b[39m\u001b[33mAccuracy over Epochs\u001b[39m\u001b[33m'\u001b[39m)\n",
      "\u001b[31mTypeError\u001b[39m: 'NoneType' object is not subscriptable"
     ]
    },
    {
     "data": {
      "image/png": "[encoded data removed]",
      "text/plain": [
       "<Figure size 1200x500 with 1 Axes>"
      ]
     },
     "metadata": {},
     "output_type": "display_data"
    }
   ],
   "source": [
    "import matplotlib.pyplot as plt\n",
    "\n",
    "# Run training\n",
    "history = train_model(model, train_loader, val_loader, criterion, optimizer, epochs=5)\n",
    "\n",
    "# Plotting\n",
    "plt.figure(figsize=(12, 5))\n",
    "\n",
    "plt.subplot(1, 2, 1)\n",
    "plt.plot(history['train_acc'], label='Train Acc')\n",
    "plt.plot(history['val_acc'], label='Val Acc')\n",
    "plt.title('Accuracy over Epochs')\n",
    "plt.xlabel('Epoch')\n",
    "plt.ylabel('Accuracy')\n",
    "plt.legend()\n",
    "\n",
    "plt.subplot(1, 2, 2)\n",
    "plt.plot(history['train_loss'], label='Train Loss')\n",
    "plt.plot(history['val_loss'], label='Val Loss')\n",
    "plt.title('Loss over Epochs')\n",
    "plt.xlabel('Epoch')\n",
    "plt.ylabel('Loss')\n",
    "plt.legend()\n",
    "\n",
    "plt.show()\n"
   ]
  },
  {
   "cell_type": "code",
   "execution_count": null,
   "id": "a91293df",
   "metadata": {},
   "outputs": [],
   "source": []
  }
 ],
 "metadata": {
  "kernelspec": {
   "display_name": "Python 3",
   "language": "python",
   "name": "python3"
  },
  "language_info": {
   "codemirror_mode": {
    "name": "ipython",
    "version": 3
   },
   "file_extension": ".py",
   "mimetype": "text/x-python",
   "name": "python",
   "nbconvert_exporter": "python",
   "pygments_lexer": "ipython3",
   "version": "3.11.9"
  }
 },
 "nbformat": 4,
 "nbformat_minor": 5
}
